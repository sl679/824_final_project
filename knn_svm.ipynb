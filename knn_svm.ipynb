{
 "cells": [
  {
   "cell_type": "code",
   "execution_count": null,
   "id": "2738b16d-e783-420c-9611-cb0d039dbfd9",
   "metadata": {},
   "outputs": [],
   "source": [
    "import pandas as pd\n",
    "import seaborn as sns\n",
    "import numpy as np\n",
    "import random\n",
    "import matplotlib.pyplot as plt\n",
    "from sklearn import metrics\n",
    "from sklearn.model_selection import train_test_split\n",
    "from sklearn.preprocessing import StandardScaler\n",
    "from sklearn.neighbors import KNeighborsClassifier\n",
    "from sklearn.preprocessing import StandardScaler\n",
    "from sklearn.metrics import accuracy_score,classification_report, confusion_matrix\n",
    "from sklearn import svm\n",
    "from sklearn.model_selection import GridSearchCV"
   ]
  },
  {
   "cell_type": "code",
   "execution_count": null,
   "id": "f276b1c4-1368-4384-982a-2902a187ea3a",
   "metadata": {},
   "outputs": [],
   "source": [
    "dat = pd.read_csv('data.csv')"
   ]
  },
  {
   "cell_type": "code",
   "execution_count": null,
   "id": "92cc52bf-ebef-4bf5-8219-43307ba1756f",
   "metadata": {},
   "outputs": [],
   "source": [
    "dat.head()"
   ]
  },
  {
   "cell_type": "code",
   "execution_count": null,
   "id": "eb401040-facd-4fbd-a926-efc95c5e964f",
   "metadata": {},
   "outputs": [],
   "source": [
    "dat.isnull().sum()"
   ]
  },
  {
   "cell_type": "code",
   "execution_count": null,
   "id": "05619bc6-8cdc-45e6-8f4d-e57afcca6d6b",
   "metadata": {},
   "outputs": [],
   "source": [
    "dat = dat.drop(['id'], axis=1)\n",
    "dat = dat.drop(['Unnamed: 32'], axis=1)"
   ]
  },
  {
   "cell_type": "code",
   "execution_count": null,
   "id": "ca309eb9-a855-4048-ad88-d3486cf3f018",
   "metadata": {},
   "outputs": [],
   "source": [
    "dat.diagnosis.value_counts()"
   ]
  },
  {
   "cell_type": "code",
   "execution_count": null,
   "id": "546580be-76fc-45eb-afc3-119ae64a6889",
   "metadata": {},
   "outputs": [],
   "source": [
    "dat['diagnosis'] = dat['diagnosis'].apply(lambda x: 1 if x=='M' else 0)"
   ]
  },
  {
   "cell_type": "code",
   "execution_count": null,
   "id": "4c5f4797-83e4-46b2-a9bd-3896f7fbbb09",
   "metadata": {},
   "outputs": [],
   "source": [
    "Y = dat['diagnosis'].values\n",
    "X = dat.iloc[:, 2:31].values"
   ]
  },
  {
   "cell_type": "code",
   "execution_count": null,
   "id": "742ddc89-f27c-454f-904d-79e5ad8afe04",
   "metadata": {},
   "outputs": [],
   "source": [
    "random.seed(2022)\n",
    "X_train, X_test, Y_train, Y_test = train_test_split(X, Y, test_size=0.2, random_state=42)"
   ]
  },
  {
   "cell_type": "code",
   "execution_count": null,
   "id": "795ce484-16cf-4999-9247-69b32728cacf",
   "metadata": {},
   "outputs": [],
   "source": [
    "X_train.shape"
   ]
  },
  {
   "cell_type": "markdown",
   "id": "e2fba570-6902-40b9-a85e-311ec9fc23da",
   "metadata": {},
   "source": [
    "##### standardize variables"
   ]
  },
  {
   "cell_type": "code",
   "execution_count": null,
   "id": "cfd86482-73aa-48d0-bbf4-f8ae5b3ad50a",
   "metadata": {},
   "outputs": [],
   "source": [
    "scaler = StandardScaler()\n",
    "scaler.fit(X_train)\n",
    "\n",
    "X_train = scaler.transform(X_train)\n",
    "X_test = scaler.transform(X_test)"
   ]
  },
  {
   "cell_type": "markdown",
   "id": "9f5dbcf7-dd1a-4da0-bb84-cba13b122249",
   "metadata": {},
   "source": [
    "##### KNN"
   ]
  },
  {
   "cell_type": "code",
   "execution_count": null,
   "id": "41309153-541e-470c-b2b1-06ae196cd222",
   "metadata": {},
   "outputs": [],
   "source": [
    "error = []\n",
    "\n",
    "# Calculating error for K values between 1 and 40\n",
    "for i in range(1, 40):\n",
    "    knn = KNeighborsClassifier(n_neighbors=i)\n",
    "    knn.fit(X_train, Y_train)\n",
    "    pred_i = knn.predict(X_test)\n",
    "    error.append(np.mean(pred_i != Y_test))"
   ]
  },
  {
   "cell_type": "code",
   "execution_count": null,
   "id": "81c651a8-e8a2-4069-bbfa-f36f29cf4c9a",
   "metadata": {},
   "outputs": [],
   "source": [
    "plt.figure(figsize=(12, 6))\n",
    "plt.plot(range(1, 40), error, color='red', linestyle='dashed', marker='o',\n",
    "         markerfacecolor='blue', markersize=10)\n",
    "plt.title('Error Rate vs K Value')\n",
    "plt.xlabel('K Value')\n",
    "plt.ylabel('Mean Error')"
   ]
  },
  {
   "cell_type": "markdown",
   "id": "a3e84ba0-44c2-44ca-9d42-9c634c27216a",
   "metadata": {},
   "source": [
    "Use k=6 to run KNN"
   ]
  },
  {
   "cell_type": "code",
   "execution_count": null,
   "id": "c77a3410-bab2-493e-a0bc-82a0cf52ad76",
   "metadata": {},
   "outputs": [],
   "source": [
    "knn_model = KNeighborsClassifier(n_neighbors=6)\n",
    "\n",
    "knn_model.fit(X_train, Y_train)\n",
    "\n",
    "pred = knn_model.predict(X_test)"
   ]
  },
  {
   "cell_type": "code",
   "execution_count": null,
   "id": "66500919-d82d-47d2-9cd8-32cc60495a4f",
   "metadata": {},
   "outputs": [],
   "source": [
    "sns.heatmap(confusion_matrix(Y_test, pred), annot=True)"
   ]
  },
  {
   "cell_type": "code",
   "execution_count": null,
   "id": "ce9869ce-b31c-4115-8bd2-fbb4676f0023",
   "metadata": {},
   "outputs": [],
   "source": [
    "print(accuracy_score(Y_test, pred))\n",
    "print(classification_report(Y_test, pred))"
   ]
  },
  {
   "cell_type": "code",
   "execution_count": null,
   "id": "4e2277ad-50e3-4402-8532-66c257c07752",
   "metadata": {},
   "outputs": [],
   "source": [
    "#ROC curve\n",
    "Y_pred_proba = knn_model.predict_proba(X_test)[::,1]\n",
    "fpr, tpr, _ = metrics.roc_curve(Y_test,  Y_pred_proba)\n",
    "auc = metrics.roc_auc_score(Y_test, Y_pred_proba)\n",
    "#create ROC curve\n",
    "plt.plot(fpr,tpr,label=\"AUC=\"+str(auc))\n",
    "plt.ylabel('True Positive Rate')\n",
    "plt.xlabel('False Positive Rate')\n",
    "plt.legend()\n",
    "plt.title('KNN ROC curve')\n",
    "plt.show()"
   ]
  },
  {
   "cell_type": "markdown",
   "id": "3ad64ca2-6719-4351-ad5f-a1274ffe001c",
   "metadata": {},
   "source": [
    "##### SVM"
   ]
  },
  {
   "cell_type": "code",
   "execution_count": null,
   "id": "c09f641b-84c2-4f68-9309-8366556c7579",
   "metadata": {},
   "outputs": [],
   "source": [
    "param_grid = {'C': [0.1, 1, 10, 100, 1000],\n",
    "              'gamma': [1, 0.1, 0.01, 0.001, 0.0001],\n",
    "              'kernel': ['rbf','linear','poly']}\n",
    " \n",
    "grid = GridSearchCV(svm.SVC(), param_grid, refit = True, verbose = 3)\n",
    " \n",
    "# fitting the model for grid search\n",
    "grid.fit(X_train, Y_train)"
   ]
  },
  {
   "cell_type": "code",
   "execution_count": null,
   "id": "a0dc6f0b-7807-49a5-a253-5b934877f513",
   "metadata": {},
   "outputs": [],
   "source": [
    "print(grid.best_params_)"
   ]
  },
  {
   "cell_type": "code",
   "execution_count": null,
   "id": "dbdd954c-259e-4e07-82df-d8933e312815",
   "metadata": {},
   "outputs": [],
   "source": [
    "#build SVM using best parameters\n",
    "svm_model = svm.SVC(C=1000, kernel='rbf', gamma=0.0001, probability=True)\n",
    "svm_model.fit(X_train, Y_train)"
   ]
  },
  {
   "cell_type": "code",
   "execution_count": null,
   "id": "5929d87e-9f8e-4e53-92b5-4efe58a4c606",
   "metadata": {},
   "outputs": [],
   "source": [
    "pred = svm_model.predict(X_test)"
   ]
  },
  {
   "cell_type": "code",
   "execution_count": null,
   "id": "d27a4e3d-0d4a-4266-9215-36221c590169",
   "metadata": {},
   "outputs": [],
   "source": [
    "sns.heatmap(confusion_matrix(Y_test, pred), annot=True)"
   ]
  },
  {
   "cell_type": "code",
   "execution_count": null,
   "id": "41e85a0c-8a89-4e07-aa45-94b0b4fcfe71",
   "metadata": {},
   "outputs": [],
   "source": [
    "print(accuracy_score(pred, Y_test))\n",
    "print(classification_report(pred, Y_test))"
   ]
  },
  {
   "cell_type": "code",
   "execution_count": null,
   "id": "7caa5f11-78d1-4ab4-81a9-d53abda30d9a",
   "metadata": {},
   "outputs": [],
   "source": [
    "Y_pred_proba = svm_model.predict_proba(X_test)[::,1]\n",
    "fpr, tpr, _ = metrics.roc_curve(Y_test,  Y_pred_proba)\n",
    "auc = metrics.roc_auc_score(Y_test, Y_pred_proba)\n",
    "#create ROC curve\n",
    "plt.plot(fpr,tpr,label=\"AUC=\"+str(auc))\n",
    "plt.ylabel('True Positive Rate')\n",
    "plt.xlabel('False Positive Rate')\n",
    "plt.legend()\n",
    "plt.title('SVM ROC curve')\n",
    "plt.show()"
   ]
  },
  {
   "cell_type": "code",
   "execution_count": null,
   "id": "d8fcbe07-fa16-47fc-b8ff-3009876f794a",
   "metadata": {},
   "outputs": [],
   "source": []
  },
  {
   "cell_type": "code",
   "execution_count": null,
   "id": "11781f4c-048c-438c-9150-75263671eed9",
   "metadata": {},
   "outputs": [],
   "source": []
  },
  {
   "cell_type": "code",
   "execution_count": null,
   "id": "01c8f530-6f61-4ca8-853e-5b244771163d",
   "metadata": {},
   "outputs": [],
   "source": []
  }
 ],
 "metadata": {
  "kernelspec": {
   "display_name": "Python 3 (ipykernel)",
   "language": "python",
   "name": "python3"
  },
  "language_info": {
   "codemirror_mode": {
    "name": "ipython",
    "version": 3
   },
   "file_extension": ".py",
   "mimetype": "text/x-python",
   "name": "python",
   "nbconvert_exporter": "python",
   "pygments_lexer": "ipython3",
   "version": "3.9.7"
  }
 },
 "nbformat": 4,
 "nbformat_minor": 5
}
